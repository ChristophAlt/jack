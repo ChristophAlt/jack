{
 "cells": [
  {
   "cell_type": "code",
   "execution_count": 4,
   "metadata": {},
   "outputs": [],
   "source": [
    "import shelve\n",
    "import os\n",
    "import pickle\n",
    "import spacy\n",
    "\n",
    "index_fn = \"/data/assertion_shelve_wiki\"\n",
    "max_len = 50\n",
    "\n",
    "#nlp = spacy.load('en', disable=['parser', 'ner', 'textcat'])\n",
    "nlp = spacy.load('en', parser=False, entity=False, matcher=False)"
   ]
  },
  {
   "cell_type": "code",
   "execution_count": 5,
   "metadata": {},
   "outputs": [],
   "source": [
    "object2assertions = dict()\n",
    "subject2assertions = dict()\n",
    "assertions = dict()\n",
    "\n",
    "def lemmatized(tokens, start, end):\n",
    "    return \" \".join(t.lemma_ for t in tokens if t.idx < end and t.idx >= start)\n",
    "\n",
    "\n",
    "ctr = 0\n",
    "\n",
    "def process_line(l, source):\n",
    "    global ctr\n",
    "    #e.g.:  'pair of compasses synonym compass\\t0:17\\t26:33'\n",
    "    try:\n",
    "        l = l.strip()\n",
    "        if \"\\t\" not in l:\n",
    "            return\n",
    "\n",
    "        [text, subject_spans, object_spans] = l.split(\"\\t\")\n",
    "        \n",
    "        if text.count(\" \") < max_len:\n",
    "            tokens = nlp(text)\n",
    "            subjects = [lemmatized(tokens, int(s[:s.index(\":\")]), int(s[s.index(\":\") + 1:]))\n",
    "                        for s in subject_spans.split(\",\")]\n",
    "            objects = [lemmatized(tokens, int(s[:s.index(\":\")]), int(s[s.index(\":\") + 1:]))\n",
    "                       for s in object_spans.split(\",\")]\n",
    "\n",
    "            if len(subjects) == 1 and len(objects) == 1 and subjects[0] == objects[0]:\n",
    "                return\n",
    "\n",
    "            ctr += 1\n",
    "\n",
    "            for subject in subjects:\n",
    "                if subject not in subject2assertions[source]:\n",
    "                    subject2assertions[source][subject] = set()\n",
    "                subject2assertions[source][subject].add(str(ctr))\n",
    "\n",
    "            for obj in objects:\n",
    "                if obj not in object2assertions[source]:\n",
    "                    object2assertions[source][obj] = set()\n",
    "                object2assertions[source][obj].add(str(ctr))\n",
    "            assertions[str(ctr)] = text\n",
    "        #else:\n",
    "            #print(\"skipping assertion bigger than %d...\" % max_len)\n",
    "    except ValueError:\n",
    "        print(\"Could not process line: \" + l)"
   ]
  },
  {
   "cell_type": "code",
   "execution_count": 6,
   "metadata": {},
   "outputs": [
    {
     "name": "stdout",
     "output_type": "stream",
     "text": [
      "Processing wikipedia_firstsent assertions...\n",
      "100000\n",
      "200000\n",
      "300000\n",
      "400000\n",
      "500000\n",
      "600000\n",
      "700000\n",
      "800000\n",
      "900000\n",
      "1000000\n",
      "1100000\n",
      "1200000\n",
      "1300000\n",
      "1400000\n",
      "1500000\n",
      "1600000\n",
      "1700000\n",
      "1800000\n",
      "1900000\n",
      "2000000\n",
      "2100000\n",
      "2200000\n",
      "2300000\n",
      "2400000\n",
      "2500000\n",
      "2600000\n",
      "2700000\n",
      "2800000\n",
      "2900000\n",
      "3000000\n",
      "3100000\n",
      "3200000\n",
      "3300000\n",
      "3400000\n",
      "3500000\n",
      "3600000\n",
      "3700000\n",
      "3800000\n",
      "3900000\n",
      "4000000\n",
      "4100000\n",
      "4200000\n",
      "4300000\n"
     ]
    }
   ],
   "source": [
    "if os.path.exists(index_fn):\n",
    "    import shutil\n",
    "    shutil.rmtree(index_fn)\n",
    "    \n",
    "os.mkdir(index_fn)  \n",
    "\n",
    "\n",
    "def process_source(name, path):\n",
    "    global assertions, ctr\n",
    "    print(\"Processing %s assertions...\" % name)\n",
    "    object2assertions[name] = dict()\n",
    "    subject2assertions[name] = dict()\n",
    "    with open(path) as f:\n",
    "        for l in f:\n",
    "            process_line(l, name)\n",
    "            if ctr % 100000 == 0:\n",
    "                print(\"%d\" % ctr)\n",
    "                db.update(assertions)\n",
    "                del assertions\n",
    "                assertions = dict()\n",
    "\n",
    "with shelve.open(os.path.join(index_fn, 'assertions.shelve')) as db:\n",
    "    #process_source(\"dbpedia_type\", \"/run/media/diwe01/Data3/wiki/dbpedia/type_assertions.txt\") \n",
    "    #process_source(\"microsoft_type\", \"/run/media/diwe01/Data2/corpora/concepts/concepts_microsoft/data-concept/type_assertions.txt\") \n",
    "    #process_source(\"simple_wikipedia_firstsent\", \"/run/media/diwe01/Data3/wiki/simple_abstracts/wiki_assertions.txt\") \n",
    "    #process_source(\"en_wikt\", \"/run/media/diwe01/Data3/wiki/en_wikt/meaning_assertions.txt\") \n",
    "    process_source(\"wikipedia_firstsent\", \"/run/media/diwe01/Data3/wiki/en_abstracts/wiki_assertions.txt\") \n",
    "    #process_source(\"ppdb_L\", \"/run/media/diwe01/Data2/corpora/concepts/ppdb/assertions_pos.txt\") \n",
    "    #process_source(\"conceptnet\", \"/run/media/diwe01/Data2/corpora/concepts/conceptnet/assertions.txt\")\n",
    "\n",
    "    db.update(assertions)\n",
    "    \n",
    "\n",
    "with open(os.path.join(index_fn, 'subject2assertions.pkl'), \"wb\") as f:\n",
    "    pickle.dump(subject2assertions, f, protocol=pickle.HIGHEST_PROTOCOL)\n",
    "    \n",
    "with open(os.path.join(index_fn, 'object2assertions.pkl'), \"wb\") as f:\n",
    "    pickle.dump(object2assertions, f, protocol=pickle.HIGHEST_PROTOCOL)"
   ]
  },
  {
   "cell_type": "code",
   "execution_count": 7,
   "metadata": {},
   "outputs": [
    {
     "name": "stderr",
     "output_type": "stream",
     "text": [
      "/usr/lib64/python3.6/importlib/_bootstrap.py:205: RuntimeWarning: compiletime version 3.5 of module 'tensorflow.python.framework.fast_tensor_util' does not match runtime version 3.6\n",
      "  return f(*args, **kwds)\n"
     ]
    }
   ],
   "source": [
    "import os\n",
    "os.chdir('..')\n",
    "\n",
    "from projects.assertion_mr.shared import AssertionStore"
   ]
  },
  {
   "cell_type": "code",
   "execution_count": 9,
   "metadata": {},
   "outputs": [],
   "source": [
    "a_store = AssertionStore(index_fn, [\"wikipedia_firstsent\"])"
   ]
  },
  {
   "cell_type": "code",
   "execution_count": 10,
   "metadata": {},
   "outputs": [],
   "source": [
    "from jack.io.load import load_squad\n",
    "\n",
    "ds = load_squad('data/SQuAD/dev-v1.1.json')"
   ]
  },
  {
   "cell_type": "code",
   "execution_count": 34,
   "metadata": {},
   "outputs": [],
   "source": [
    "q = ds[1000][0]"
   ]
  },
  {
   "cell_type": "code",
   "execution_count": 35,
   "metadata": {},
   "outputs": [],
   "source": [
    "from jack.util import preprocessing\n",
    "from jack.util.vocab import Vocab\n",
    "\n",
    "v = Vocab()\n"
   ]
  },
  {
   "cell_type": "code",
   "execution_count": 36,
   "metadata": {},
   "outputs": [],
   "source": [
    "qts, _, _, qls, _ = preprocessing.nlp_preprocess(q.question, v, use_spacy=True, with_lemmas=True)\n",
    "sts, _, _, sls, _ = preprocessing.nlp_preprocess(q.support[0], v, use_spacy=True, with_lemmas=True)"
   ]
  },
  {
   "cell_type": "code",
   "execution_count": 37,
   "metadata": {},
   "outputs": [],
   "source": [
    "ass = a_store.get_assertion_keys(qls, sls)"
   ]
  },
  {
   "cell_type": "code",
   "execution_count": 39,
   "metadata": {},
   "outputs": [
    {
     "name": "stdout",
     "output_type": "stream",
     "text": [
      "Where is a palm house with subtropic plants from all over the world on display?\n",
      "Other green spaces in the city include the Botanic Garden and the University Library garden. They have extensive botanical collection of rare domestic and foreign plants, while a palm house in the New Orangery displays plants of subtropics from all over the world. Besides, within the city borders, there are also: Pole Mokotowskie (a big park in the northern Mokotów, where was the first horse racetrack and then the airport), Park Ujazdowski (close to the Sejm and John Lennon street), Park of Culture and Rest in Powsin, by the southern city border, Park Skaryszewski by the right Vistula bank, in Praga. The oldest park in Praga, the Praga Park, was established in 1865–1871 and designed by Jan Dobrowolski. In 1927 a zoological garden (Ogród Zoologiczny) was established on the park grounds, and in 1952 a bear run, still open today.\n",
      "\n",
      "2.108970506047473e-06 ['palm'] ---- ['city']\n",
      "palms is a highly diverse, densely populated community in the westside region of los angeles, california, founded in 1886 and the oldest neighborhood annexed to the city, in 1915.\n",
      "\n",
      "3.514950843412455e-07 ['house'] ---- ['city']\n",
      "the house or kelya of the blessed starets saint pavel of taganrog is situated in the city of taganrog on turgenevsky street 82 not far from the the saint nicholas the wonderworker church and open to russian orthodox pilgrims.\n",
      "\n",
      "0.0006112469437652812 ['display'] ---- ['Botanic', 'Garden']\n",
      "a botanical garden or botanic garden is a garden dedicated to the collection, cultivation and display of a wide range of plants labelled with their botanical names.\n",
      "\n",
      "1.4707937138276672e-06 ['plants'] ---- ['Garden']\n",
      "a garden grown specifically for the purpose of testing and evaluating plants is called a trial garden.\n",
      "\n",
      "1.4707937138276672e-06 ['plants'] ---- ['Garden']\n",
      "a garden is an area set aside for the cultivation and enjoyment of plant and other natural life.\n",
      "\n",
      "8.430992327796982e-05 ['display'] ---- ['Garden']\n",
      "a garden is a planned space, usually outdoors, set aside for the display, cultivation, and enjoyment of plants and other forms of nature.\n",
      "\n",
      "1.4070040662417514e-06 ['world'] ---- ['collection']\n",
      "worlds is a collection of science fiction and fantasy short stories by eric flint.\n",
      "\n",
      "1.4070040662417514e-06 ['world'] ---- ['first']\n",
      "the world is the home of love and death: stories is a collection of short stories written by harold brodkey and first published posthumously in 1997.\n",
      "\n",
      "1.8789875639208083e-07 ['plants'] ---- ['also']\n",
      "also known as the rio de janeiro myrtle, campomanesia lundiana was a species of plant in the myrtaceae family.\n",
      "\n",
      "5.163603617001061e-07 ['world'] ---- ['first']\n",
      "first established as the ellicott machine company in 1885, ellicott dredges is one of the oldest manufactures in the world that specializes in the design and building of dredges and dredge machinery.\n",
      "\n",
      "1.0282808070359085e-07 ['world'] ---- ['first']\n",
      "the world is darker ep is the first ep by neverending white lights.\n",
      "\n",
      "1.2110862838422921e-06 ['palm'] ---- ['first']\n",
      "palms is the first full-length studio record from american rock band palms.\n",
      "\n",
      "1.0282808070359085e-07 ['world'] ---- ['first']\n",
      "the world is full of married men is the debut novel of british author jackie collins, first published in 1968 by w. h. allen.\n",
      "\n",
      "2.0184771397371537e-07 ['house'] ---- ['first']\n",
      "house rules 2013 is the first series of australian reality television series house rules on the seven network.\n",
      "\n",
      "1.0282808070359085e-07 ['world'] ---- ['first']\n",
      "this world is not my home is the first studio album from onward to olympas.\n",
      "\n",
      "2.0184771397371537e-07 ['house'] ---- ['first']\n",
      "a house is built is the first novel of m. barnard eldershaw, the joint pseudonym of marjorie barnard and flora eldershaw.\n",
      "\n",
      "5.449888277290315e-06 ['over', 'the', 'world'] ---- ['first']\n",
      "all over the world is the first major label studio album by jj weeks band.\n",
      "\n",
      "1.0282808070359085e-07 ['world'] ---- ['first']\n",
      "the world is yours was the world's first color television series, making its debut on june 26, 1951 on several stations of the cbs television network in the eastern united states.\n",
      "\n",
      "1.0282808070359085e-07 ['world'] ---- ['first']\n",
      "this world is the first studio album by the band this world.\n",
      "\n",
      "3.7232299764691865e-06 ['world'] ---- ['airport']\n",
      "airport is a british documentary television series based at london heathrow airport, the world's busiest international airport, broadcast by the bbc and syndicated to dave, part of the uktv network.\n",
      "\n",
      "3.0336952531770374e-06 ['house'] ---- ['street']\n",
      "the street enters the house is an oil on canvas painting by italian artist umberto boccioni.\n",
      "\n",
      "1.3100253620910101e-06 ['world'] ---- ['still']\n",
      "still be love in the world is a compilation album released on 1 march 2001 by sting exclusively at target stores in the united states.\n",
      "\n"
     ]
    }
   ],
   "source": [
    "print(q.question)\n",
    "print(q.support[0])\n",
    "print()\n",
    "for a in ass[0]:\n",
    "    print(ass[0][a], qts[ass[1][a][0][0]:ass[1][a][0][1]], '----', sts[ass[1][a][1][0]:ass[1][a][1][1]])\n",
    "    print(a_store.get_assertion(a))\n",
    "    print()"
   ]
  },
  {
   "cell_type": "code",
   "execution_count": 29,
   "metadata": {},
   "outputs": [
    {
     "data": {
      "text/plain": [
       "([2, 3], [102, 103])"
      ]
     },
     "execution_count": 29,
     "metadata": {},
     "output_type": "execute_result"
    }
   ],
   "source": [
    "ass[1][a]"
   ]
  }
 ],
 "metadata": {
  "kernelspec": {
   "display_name": "Python 3",
   "language": "python",
   "name": "python3"
  },
  "language_info": {
   "codemirror_mode": {
    "name": "ipython",
    "version": 3
   },
   "file_extension": ".py",
   "mimetype": "text/x-python",
   "name": "python",
   "nbconvert_exporter": "python",
   "pygments_lexer": "ipython3",
   "version": "3.6.2"
  }
 },
 "nbformat": 4,
 "nbformat_minor": 1
}
